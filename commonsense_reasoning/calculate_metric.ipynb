{
 "cells": [
  {
   "cell_type": "code",
   "execution_count": 1,
   "metadata": {},
   "outputs": [],
   "source": [
    "import os \n",
    "import json "
   ]
  },
  {
   "cell_type": "code",
   "execution_count": 2,
   "metadata": {},
   "outputs": [],
   "source": [
    "def cal_accuracy(outputs):\n",
    "    count = 0\n",
    "    accurate = 0\n",
    "\n",
    "    for output in outputs:\n",
    "        count += 1\n",
    "        if output['flag']: accurate += 1\n",
    "\n",
    "    return accurate / count"
   ]
  },
  {
   "cell_type": "code",
   "execution_count": 3,
   "metadata": {},
   "outputs": [
    {
     "name": "stdout",
     "output_type": "stream",
     "text": [
      "LLaMA-7B-LoRA-winogrande.json 0.7411207576953434\n",
      "LLaMA-7B-LoRA-social_i_qa.json 0.714431934493347\n",
      "LLaMA-7B-LoRA-boolq.json 0.45137614678899085\n",
      "LLaMA-7B-LoRA-ARC-Challenge.json 0.5494880546075085\n",
      "LLaMA-7B-LoRA-openbookqa.json 0.69\n",
      "LLaMA-7B-LoRA-ARC-Easy.json 0.7550505050505051\n",
      "LLaMA-7B-LoRA-piqa.json 0.5729053318824809\n",
      "LLaMA-7B-LoRA-hellaswag.json 0.2517426807408883\n",
      "Average accuracy: 0.590764426407383\n"
     ]
    }
   ],
   "source": [
    "dir_name = \"results/mlora-r4-a8-3e4-h4\"\n",
    "# dir_name = \"results/mlora-r16-a32-3e4\"\n",
    "# dir_name = \"results/mlora-r32-a64-3e4\"\n",
    "# dir_name = \"results/mlora-r64-a128-3e4\" \n",
    "accuracys = []\n",
    "\n",
    "for filename in os.listdir(dir_name):\n",
    "    outputs = json.load(open(os.path.join(dir_name, filename)))\n",
    "    accuracy = cal_accuracy(outputs)\n",
    "    accuracys.append(accuracy)\n",
    "    print(filename, accuracy)\n",
    "\n",
    "print(\"Average accuracy:\", sum(accuracys) / len(accuracys))"
   ]
  },
  {
   "cell_type": "code",
   "execution_count": null,
   "metadata": {},
   "outputs": [],
   "source": []
  }
 ],
 "metadata": {
  "kernelspec": {
   "display_name": "jctorch",
   "language": "python",
   "name": "python3"
  },
  "language_info": {
   "codemirror_mode": {
    "name": "ipython",
    "version": 3
   },
   "file_extension": ".py",
   "mimetype": "text/x-python",
   "name": "python",
   "nbconvert_exporter": "python",
   "pygments_lexer": "ipython3",
   "version": "3.10.14"
  }
 },
 "nbformat": 4,
 "nbformat_minor": 2
}

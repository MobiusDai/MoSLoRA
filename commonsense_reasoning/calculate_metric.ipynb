{
 "cells": [
  {
   "cell_type": "code",
   "execution_count": 1,
   "metadata": {},
   "outputs": [],
   "source": [
    "import os \n",
    "import json "
   ]
  },
  {
   "cell_type": "code",
   "execution_count": 4,
   "metadata": {},
   "outputs": [],
   "source": [
    "def cal_accuracy(outputs):\n",
    "    count = 0\n",
    "    accurate = 0\n",
    "\n",
    "    for output in outputs:\n",
    "        count += 1\n",
    "        if output['flag']: accurate += 1\n",
    "\n",
    "    return accurate / count"
   ]
  },
  {
   "cell_type": "code",
   "execution_count": 12,
   "metadata": {},
   "outputs": [
    {
     "name": "stdout",
     "output_type": "stream",
     "text": [
      "LLaMA-7B-LoRA-social_i_qa.json 0.7876151484135108\n",
      "LLaMA-7B-LoRA-ARC-Challenge.json 0.6708683473389355\n",
      "LLaMA-7B-LoRA-openbookqa.json 0.824\n",
      "LLaMA-7B-LoRA-ARC-Easy.json 0.8148148148148148\n"
     ]
    }
   ],
   "source": [
    "dir_name = \"results/mlora-r64-a128-3e4\"\n",
    "\n",
    "for filename in os.listdir(dir_name):\n",
    "    outputs = json.load(open(os.path.join(dir_name, filename)))\n",
    "    cal_accuracy(outputs)\n",
    "    print(filename, cal_accuracy(outputs))"
   ]
  },
  {
   "cell_type": "code",
   "execution_count": null,
   "metadata": {},
   "outputs": [],
   "source": []
  }
 ],
 "metadata": {
  "kernelspec": {
   "display_name": "jctorch",
   "language": "python",
   "name": "python3"
  },
  "language_info": {
   "codemirror_mode": {
    "name": "ipython",
    "version": 3
   },
   "file_extension": ".py",
   "mimetype": "text/x-python",
   "name": "python",
   "nbconvert_exporter": "python",
   "pygments_lexer": "ipython3",
   "version": "3.10.14"
  }
 },
 "nbformat": 4,
 "nbformat_minor": 2
}

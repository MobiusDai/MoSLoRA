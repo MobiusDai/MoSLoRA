{
 "cells": [
  {
   "cell_type": "code",
   "execution_count": 1,
   "metadata": {},
   "outputs": [],
   "source": [
    "import os \n",
    "import json "
   ]
  },
  {
   "cell_type": "code",
   "execution_count": 2,
   "metadata": {},
   "outputs": [],
   "source": [
    "def cal_accuracy(outputs):\n",
    "    count = 0\n",
    "    accurate = 0\n",
    "\n",
    "    for output in outputs:\n",
    "        count += 1\n",
    "        if output['flag']: accurate += 1\n",
    "\n",
    "    return accurate / count"
   ]
  },
  {
   "cell_type": "code",
   "execution_count": 19,
   "metadata": {},
   "outputs": [
    {
     "name": "stdout",
     "output_type": "stream",
     "text": [
      "LLaMA-7B-LoRA-ARC-Easy.json 0.3976153447382063\n"
     ]
    }
   ],
   "source": [
    "dir_name = \"results/mlora-r4-a8-3e4\"\n",
    "# dir_name = \"results/mlora-r16-a32-3e4\"\n",
    "# dir_name = \"results/mlora-r32-a64-3e4\"\n",
    "\n",
    "\n",
    "for filename in os.listdir(dir_name):\n",
    "    outputs = json.load(open(os.path.join(dir_name, filename)))\n",
    "    cal_accuracy(outputs)\n",
    "    print(filename, cal_accuracy(outputs))"
   ]
  },
  {
   "cell_type": "code",
   "execution_count": null,
   "metadata": {},
   "outputs": [],
   "source": []
  }
 ],
 "metadata": {
  "kernelspec": {
   "display_name": "jctorch",
   "language": "python",
   "name": "python3"
  },
  "language_info": {
   "codemirror_mode": {
    "name": "ipython",
    "version": 3
   },
   "file_extension": ".py",
   "mimetype": "text/x-python",
   "name": "python",
   "nbconvert_exporter": "python",
   "pygments_lexer": "ipython3",
   "version": "3.10.14"
  }
 },
 "nbformat": 4,
 "nbformat_minor": 2
}

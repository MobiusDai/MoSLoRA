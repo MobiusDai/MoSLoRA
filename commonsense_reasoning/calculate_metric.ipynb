{
 "cells": [
  {
   "cell_type": "code",
   "execution_count": 1,
   "metadata": {},
   "outputs": [],
   "source": [
    "import os \n",
    "import json "
   ]
  },
  {
   "cell_type": "code",
   "execution_count": 2,
   "metadata": {},
   "outputs": [],
   "source": [
    "def cal_accuracy(outputs):\n",
    "    count = 0\n",
    "    accurate = 0\n",
    "\n",
    "    for output in outputs:\n",
    "        count += 1\n",
    "        if output['flag']: accurate += 1\n",
    "\n",
    "    return accurate / count"
   ]
  },
  {
   "cell_type": "code",
   "execution_count": 4,
   "metadata": {},
   "outputs": [
    {
     "name": "stdout",
     "output_type": "stream",
     "text": [
      "LLaMA-7B-LoRA-winogrande.json 0.734017363851618\n",
      "LLaMA-7B-LoRA-social_i_qa.json 0.759467758444217\n",
      "LLaMA-7B-LoRA-boolq.json 0.6724770642201835\n",
      "LLaMA-7B-LoRA-ARC-Challenge.json 0.5998293515358362\n",
      "LLaMA-7B-LoRA-openbookqa.json 0.734\n",
      "LLaMA-7B-LoRA-ARC-Easy.json 0.7706228956228957\n",
      "LLaMA-7B-LoRA-piqa.json 0.7671381936887922\n",
      "LLaMA-7B-LoRA-hellaswag.json 0.4606652061342362\n",
      "Average accuracy: 0.6872772291872223\n"
     ]
    }
   ],
   "source": [
    "dir_name = \"results/mlora-r4-a8-5e4-h4-epoch3\"\n",
    "dir_name = \"results/mlora-r4-a8-3e4-h4-epoch5\"\n",
    "accuracys = []\n",
    "\n",
    "for filename in os.listdir(dir_name):\n",
    "    outputs = json.load(open(os.path.join(dir_name, filename)))\n",
    "    accuracy = cal_accuracy(outputs)\n",
    "    accuracys.append(accuracy)\n",
    "    print(filename, accuracy)\n",
    "\n",
    "print(\"Average accuracy:\", sum(accuracys) / len(accuracys))"
   ]
  },
  {
   "cell_type": "code",
   "execution_count": null,
   "metadata": {},
   "outputs": [],
   "source": []
  }
 ],
 "metadata": {
  "kernelspec": {
   "display_name": "jctorch",
   "language": "python",
   "name": "python3"
  },
  "language_info": {
   "codemirror_mode": {
    "name": "ipython",
    "version": 3
   },
   "file_extension": ".py",
   "mimetype": "text/x-python",
   "name": "python",
   "nbconvert_exporter": "python",
   "pygments_lexer": "ipython3",
   "version": "3.10.14"
  }
 },
 "nbformat": 4,
 "nbformat_minor": 2
}
